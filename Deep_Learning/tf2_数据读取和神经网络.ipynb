{
 "cells": [
  {
   "cell_type": "markdown",
   "metadata": {},
   "source": [
    "# 读取文件\n",
    "\n",
    "### 有四种获取数据到TensorFlow程序的方法：\n",
    "\n",
    "1. **`tf.dataAPI`：轻松构建复杂的输入管道（优选方法，在新版本中）**\n",
    "\n",
    "2. **`QueueRunner`：基于队列的输入管道从TensorFlow图形开头的文件中读取数据**\n",
    "\n",
    "3. `Feeding`：运行每一步时，Python代码提供数据\n",
    "\n",
    "4. 预加载数据：TensorFlow图中的常量或变量包含所有数据（对于小数据集）"
   ]
  },
  {
   "cell_type": "markdown",
   "metadata": {},
   "source": [
    "### 文件读取流程\n",
    "\n",
    "![imaged13d0.png](https://miao.su/images/2019/10/15/imaged13d0.png)\n",
    "\n",
    "* 第一阶段将生成文件名来读取他们并将他们排入文件名队列\n",
    "\n",
    "* 第二阶段对于文件名的队列，进行出队列实例，并且实行内容的解码\n",
    "\n",
    "* 第三阶段重新入新的队列，这将是新的样本队列\n",
    "\n",
    "1. 构造好一个路径 + 文件名的队列\n",
    "\n",
    "2. 进行文件名队列的读取操作\n",
    "\n",
    "3. 进行解码操作\n",
    "\n",
    "4. 放到样本队列当中，进行批处理"
   ]
  },
  {
   "cell_type": "markdown",
   "metadata": {},
   "source": [
    "### 构造文件队列\n",
    "\n",
    "将需要读取的文件装入到一个固定的队列当中。\n",
    "\n",
    "`tf.train.string_input_producer(string_tensor, shuffle=True)`\n",
    "    \n",
    "    * string_tensor：含有文件名 + 路径的1阶张量\n",
    "    \n",
    "    * num_epochs：过几遍数据，默认无限过数据\n",
    "    \n",
    "    * return：文件队列"
   ]
  },
  {
   "cell_type": "markdown",
   "metadata": {},
   "source": [
    "### 读取文件内容\n",
    "\n",
    "TensorFlow默认每次只读取一个样本，具体到文本文件读取一行、二进制文件读取指定字节数（最好一个样本）、图片文件读取一张图片、TFRecords默认读取一个example。\n",
    "\n",
    "* `tf.TextLineReader`：\n",
    "\n",
    "    * 阅读文本文件逗号分隔值（CSV）格式，默认按行读取\n",
    "    \n",
    "    * `return`：读取器实例\n",
    "    \n",
    "* `tf.WholeFileReader`：用于读取图片文件\n",
    "\n",
    "* `tf.TFRecordReader`：读取TFRecordReader文件\n",
    "\n",
    "* `tf.FixedLengthRecordReader`：二进制文件\n",
    "\n",
    "    * 要读取每个记录是固定数量字节的二进制文件\n",
    "    \n",
    "    * `record_bytes`：整型，指定每次读取（一个样本）的字节数\n",
    "    \n",
    "    * `reutrn`：读取器实例\n",
    "  \n",
    "\n",
    "> 1. 他们共同的读取的方法：read(file_queue)：从队列中指定数量内容返回一个Tensors元组（key文件名字， value默认的内容（一个样本））\n",
    "> 2. 由于默认只会读取一个样本，所以通常想要进行批处理。使用`tf.train.batch`或`tf.train.shuffle_batch`进行多样本获取，便于训练时候指定每批次多个样本训练"
   ]
  },
  {
   "cell_type": "markdown",
   "metadata": {},
   "source": [
    "### 内容解码\n",
    "\n",
    "对于读取不同的文件类型，内容需要解码操作，解码成统一的文件格式。\n",
    "\n",
    "* `tf.decode_csv`：解码文本文件内容\n",
    "\n",
    "* `tf.decode_raw`：解码二进制文件内容，与`tf.FixLengthRecordReader`搭配使用，二进制读取为uint8格式\n",
    "\n",
    "* `tf.image.decode_jepg(contents)`：将JEPG编码的图像解码为uint8张量；返回uint8张量，3-D形状[height, width, channels]\n",
    "\n",
    "* `tf.image.decode_png(contents)`：将PNG编码的图像解码为uint8张量；返回张量类型，3-D形状[height, width, channels]\n",
    "\n",
    "> 解码阶段，默认所有解码都返回uint8类型，如果需要别的类型再进行其他处理"
   ]
  },
  {
   "cell_type": "markdown",
   "metadata": {},
   "source": [
    "### 批处理\n",
    "\n",
    "在解码之后，我们可以直接获取默认的一个样本内容了，但是如果想要获取多个样本，这个时候需要结合管道的末尾进行批处理\n",
    "\n",
    "`tf.train.batch(tensors, batch_size, num_threads=1, capacity=32, name=None)`\n",
    "    \n",
    "    * 读取指定大小（个数）的张量\n",
    "    \n",
    "    * tensor：可以是包含张量的列表，批处理的内容放在列表中\n",
    "    \n",
    "    * batch_size：从列表读取的批处理的大小\n",
    "    \n",
    "    * num_threads：进入队列的线程数\n",
    "    \n",
    "    * capacity：整数，队列中元素的最大数量\n",
    "    \n",
    "    * return：tensors\n",
    "    \n",
    "`tf.train.shuffle_batch`"
   ]
  },
  {
   "cell_type": "code",
   "execution_count": null,
   "metadata": {},
   "outputs": [],
   "source": []
  },
  {
   "cell_type": "code",
   "execution_count": null,
   "metadata": {},
   "outputs": [],
   "source": []
  }
 ],
 "metadata": {
  "kernelspec": {
   "display_name": "Python 3",
   "language": "python",
   "name": "python3"
  },
  "language_info": {
   "codemirror_mode": {
    "name": "ipython",
    "version": 3
   },
   "file_extension": ".py",
   "mimetype": "text/x-python",
   "name": "python",
   "nbconvert_exporter": "python",
   "pygments_lexer": "ipython3",
   "version": "3.6.9"
  }
 },
 "nbformat": 4,
 "nbformat_minor": 2
}
