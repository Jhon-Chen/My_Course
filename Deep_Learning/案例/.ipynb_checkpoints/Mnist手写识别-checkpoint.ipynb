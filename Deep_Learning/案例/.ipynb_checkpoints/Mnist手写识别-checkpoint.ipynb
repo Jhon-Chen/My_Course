{
 "cells": [
  {
   "cell_type": "code",
   "execution_count": 1,
   "metadata": {},
   "outputs": [],
   "source": [
    "import tensorflow as tf"
   ]
  },
  {
   "cell_type": "code",
   "execution_count": 2,
   "metadata": {},
   "outputs": [],
   "source": [
    "# 读取解析数据，mnist有他专用的API接口\n",
    "from tensorflow.examples.tutorials.mnist import input_data"
   ]
  },
  {
   "cell_type": "code",
   "execution_count": 7,
   "metadata": {},
   "outputs": [
    {
     "name": "stdout",
     "output_type": "stream",
     "text": [
      "Extracting E:\\AI\\data\\mnist\\input_data\\train-images-idx3-ubyte.gz\n",
      "Extracting E:\\AI\\data\\mnist\\input_data\\train-labels-idx1-ubyte.gz\n",
      "Extracting E:\\AI\\data\\mnist\\input_data\\t10k-images-idx3-ubyte.gz\n",
      "Extracting E:\\AI\\data\\mnist\\input_data\\t10k-labels-idx1-ubyte.gz\n"
     ]
    },
    {
     "data": {
      "text/plain": [
       "(55000, 784)"
      ]
     },
     "execution_count": 7,
     "metadata": {},
     "output_type": "execute_result"
    }
   ],
   "source": [
    "mnist = input_data.read_data_sets(\"E:\\\\AI\\\\data\\\\mnist\\\\input_data\", one_hot = True)\n",
    "# mnist数据集的目标值\n",
    "# mnist.train.labels\n",
    "\n",
    "# mnist每个图片的形状\n",
    "mnist.train.images.shape\n",
    "\n",
    "# # 通过批处理获取数据\n",
    "# image, label = mnist.train.next_batch(10)"
   ]
  },
  {
   "cell_type": "markdown",
   "metadata": {},
   "source": [
    "### 现在正式开始案例的设计\n",
    "注意，我们只设计一层的神经网络\n",
    "\n",
    "1. mnist获取数据，特征值 \\[None, 784\\] ，目标值\\[None, 10\\]"
   ]
  },
  {
   "cell_type": "code",
   "execution_count": null,
   "metadata": {},
   "outputs": [],
   "source": [
    "def full_connected_nn()：\n",
    "\"\"\"全连接层神经网络进行Mnist手写数字识别\"\"\"\n",
    "mnist = input_data.read_data_sets(\"E:\\\\AI\\\\data\\\\mnist\\\\input_data\", one_hot = True)\n",
    "\n",
    "# 定义命名空间\n",
    "with tf.variable_scope(\"data\"):\n",
    "    # 定义特征值占位符\n",
    "    x = tf.placeholder(tf.float32, [None, 784])\n",
    "    # 定义目标值占位符\n",
    "    y_true = tf.placeholder(tf.int32, [None, 10])"
   ]
  },
  {
   "cell_type": "markdown",
   "metadata": {},
   "source": [
    "2. 建立神经网络模型\n",
    "\n",
    "    * 权重：\\[784, 10\\]\n",
    "    \n",
    "    * 偏置：\\[10\\]\n",
    "\n",
    "    * \\[None, 784\\] * \\[784, 10\\] + \\[10\\] = \\[None, 10\\]\n",
    "\n",
    "这就是每次10个神经元输出结果"
   ]
  },
  {
   "cell_type": "code",
   "execution_count": null,
   "metadata": {},
   "outputs": [],
   "source": [
    "\n",
    "\n",
    "\n",
    "\n",
    "\n",
    "\n"
   ]
  },
  {
   "cell_type": "markdown",
   "metadata": {},
   "source": [
    "3. softmax、交叉熵损失计算API\n",
    "    * API：`tf.nn.softmax_cross_entropy_with_logits(labels=None, logits=None, name=None)`\n",
    "    * `tf.reduce_mean(input_tensor)`"
   ]
  },
  {
   "cell_type": "code",
   "execution_count": null,
   "metadata": {},
   "outputs": [],
   "source": [
    "\n",
    "\n",
    "\n",
    "\n",
    "\n"
   ]
  },
  {
   "cell_type": "markdown",
   "metadata": {},
   "source": []
  },
  {
   "cell_type": "code",
   "execution_count": null,
   "metadata": {},
   "outputs": [],
   "source": [
    "4. 梯度下降优化"
   ]
  },
  {
   "cell_type": "code",
   "execution_count": null,
   "metadata": {},
   "outputs": [],
   "source": [
    "\n",
    "\n",
    "\n",
    "\n",
    "\n",
    "return None"
   ]
  },
  {
   "cell_type": "markdown",
   "metadata": {},
   "source": [
    "#### 主程序"
   ]
  },
  {
   "cell_type": "code",
   "execution_count": null,
   "metadata": {},
   "outputs": [],
   "source": [
    "if __name__ == '__main__':\n",
    "    full_connected_nn()"
   ]
  },
  {
   "cell_type": "code",
   "execution_count": null,
   "metadata": {},
   "outputs": [],
   "source": [
    "\n",
    "\n",
    "\n",
    "\n",
    "\n",
    "\n"
   ]
  },
  {
   "cell_type": "code",
   "execution_count": null,
   "metadata": {},
   "outputs": [],
   "source": []
  },
  {
   "cell_type": "code",
   "execution_count": null,
   "metadata": {},
   "outputs": [],
   "source": []
  },
  {
   "cell_type": "code",
   "execution_count": null,
   "metadata": {},
   "outputs": [],
   "source": []
  },
  {
   "cell_type": "code",
   "execution_count": null,
   "metadata": {},
   "outputs": [],
   "source": []
  }
 ],
 "metadata": {
  "file_extension": ".py",
  "kernelspec": {
   "display_name": "Python 3",
   "language": "python",
   "name": "python3"
  },
  "language_info": {
   "codemirror_mode": {
    "name": "ipython",
    "version": 3
   },
   "file_extension": ".py",
   "mimetype": "text/x-python",
   "name": "python",
   "nbconvert_exporter": "python",
   "pygments_lexer": "ipython3",
   "version": "3.6.9"
  },
  "mimetype": "text/x-python",
  "name": "python",
  "npconvert_exporter": "python",
  "pygments_lexer": "ipython3",
  "version": 3
 },
 "nbformat": 4,
 "nbformat_minor": 2
}
