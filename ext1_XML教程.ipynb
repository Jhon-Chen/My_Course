{
 "cells": [
  {
   "cell_type": "markdown",
   "metadata": {},
   "source": [
    "# XML简介\n",
    "\n",
    "首先，XML被设计用来传输和存储数据，而HTML被设计用来显示数据。\n",
    "\n",
    "### 什么是XML\n",
    "\n",
    "* XML 指可扩展标记语言（EXtensible Markup Language）。\n",
    "* XML 是一种很像HTML的标记语言。\n",
    "* XML 的设计宗旨是传输数据，而不是显示数据。\n",
    "* XML 标签没有被预定义。您需要自行定义标签。\n",
    "* XML 被设计为具有自我描述性。\n",
    "* XML 是 W3C 的推荐标准。\n",
    "\n",
    "### XML和HTML之间的差异\n",
    "\n",
    "XML 不是 HTML 的替代,XML 和 HTML 为不同的目的而设计：\n",
    "\n",
    "* XML 被设计用来传输和存储数据，其焦点是数据的内容。\n",
    "* HTML 被设计用来显示数据，其焦点是数据的外观。\n",
    "\n",
    "HTML 旨在显示信息，而 XML 旨在传输信息。\n",
    "\n",
    "### XML不会做任何事情\n",
    "\n",
    "也许这有点难以理解，但是 XML 不会做任何事情。XML 被设计用来结构化、存储以及传输信息。\n",
    "\n",
    "下面实例是 Jani 写给 Tove 的便签，存储为 XML："
   ]
  },
  {
   "cell_type": "markdown",
   "metadata": {},
   "source": [
    "<note>\n",
    "<to>Tove</to>\n",
    "<from>Jani</from>\n",
    "<heading>Reminder</heading>\n",
    "<body>Don't forget me this weekend!</body>\n",
    "</note> "
   ]
  },
  {
   "cell_type": "markdown",
   "metadata": {},
   "source": [
    "上面的这条便签具有自我描述性。它包含了发送者和接受者的信息，同时拥有标题以及消息主体。\n",
    "\n",
    "但是，这个 XML 文档仍然没有做任何事情。它仅仅是包装在 XML 标签中的纯粹的信息。我们需要编写软件或者程序，才能传送、接收和显示出这个文档。"
   ]
  },
  {
   "cell_type": "markdown",
   "metadata": {},
   "source": [
    "### 通过XML可以发明自己的标签\n",
    "\n",
    "上面实例中的标签没有在任何 XML 标准中定义过（比如 <to> 和 <from>）。这些标签是由 XML 文档的创作者发明的。\n",
    "\n",
    "这是因为 XML 语言没有预定义的标签。\n",
    "\n",
    "HTML 中使用的标签都是预定义的。HTML 文档只能使用在 HTML 标准中定义过的标签（`如 <p>、<h1> 等等`）。\n",
    "\n",
    "XML 允许创作者定义自己的标签和自己的文档结构。\n",
    "\n",
    "### XML不是对HTML的替代\n",
    "\n",
    "*XML 是对 HTML 的补充。*\n",
    "\n",
    "XML 不会替代 HTML，理解这一点很重要。在大多数 Web 应用程序中，XML 用于传输数据，而 HTML 用于格式化并显示数据。\n",
    "\n",
    "对 XML 最好的描述是：\n",
    "\n",
    "*XML 是独立于软件和硬件的信息传输工具。*"
   ]
  },
  {
   "cell_type": "markdown",
   "metadata": {},
   "source": [
    "# XML用途\n",
    "\n",
    "XML应用与Web开发的许多方面，常用于简化数据的存储和共享。\n",
    "\n",
    "### XML把数据从HTML分离\n",
    "\n",
    "如果您需要在 HTML 文档中显示动态数据，那么每当数据改变时将花费大量的时间来编辑 HTML。\n",
    "\n",
    "通过 XML，数据能够存储在独立的 XML 文件中。这样您就可以专注于使用 HTML/CSS 进行显示和布局，并确保修改底层数据不再需要对 HTML 进行任何的改变。\n",
    "\n",
    "通过使用几行 JavaScript 代码，您就可以读取一个外部 XML 文件，并更新您的网页的数据内容。\n",
    "\n",
    "### XML简化数据共享\n",
    "\n",
    "在真实的世界中，计算机系统和数据使用不兼容的格式来存储数据。\n",
    "\n",
    "XML 数据以纯文本格式进行存储，因此提供了一种独立于软件和硬件的数据存储方法。\n",
    "\n",
    "这让创建不同应用程序可以共享的数据变得更加容易。\n",
    "\n",
    "### XML简化数据传输\n",
    "\n",
    "对开发人员来说，其中一项最费时的挑战一直是在互联网上的不兼容系统之间交换数据。\n",
    "\n",
    "由于可以通过各种不兼容的应用程序来读取数据，以 XML 交换数据降低了这种复杂性。\n",
    "\n",
    "### XML简化平台变更\n",
    "\n",
    "升级到新的系统（硬件或软件平台），总是非常费时的。必须转换大量的数据，不兼容的数据经常会丢失。\n",
    "\n",
    "XML 数据以文本格式存储。这使得 XML 在不损失数据的情况下，更容易扩展或升级到新的操作系统、新的应用程序或新的浏览器。\n",
    "\n",
    "### XML使您的数据更有用\n",
    "\n",
    "不同的应用程序都能够访问您的数据，不仅仅在 HTML 页中，也可以从 XML 数据源中进行访问。\n",
    "\n",
    "通过 XML，您的数据可供各种阅读设备使用（掌上计算机、语音设备、新闻阅读器等），还可以供盲人或其他残障人士使用。\n",
    "\n",
    "### XML用于创建新的互联网语言\n",
    "\n",
    "很多新的互联网语言是通过 XML 创建的。\n",
    "\n",
    "这里有一些实例：\n",
    "\n",
    "* XHTML\n",
    "* 用于描述可用的 Web 服务 的 WSDL\n",
    "* 作为手持设备的标记语言的 WAP 和 WML\n",
    "* 用于新闻 feed 的 RSS 语言\n",
    "* 描述资本和本体的 RDF 和 OWL\n",
    "* 用于描述针针对 Web 的多媒体 的 SMIL"
   ]
  },
  {
   "cell_type": "markdown",
   "metadata": {},
   "source": [
    "# XML 树结构\n",
    "XML文档形成了一种树结构，它从\"根部\"开始，然后扩展到\"枝叶\"。\n",
    "\n",
    "### 一个XML文档实例\n",
    "\n",
    "XML文档使用简单的具有自我描述的语法：\n",
    "![image5d05d.png](https://miao.su/images/2019/10/01/image5d05d.png)"
   ]
  },
  {
   "cell_type": "markdown",
   "metadata": {},
   "source": [
    "第一行是 XML 声明。它定义 XML 的版本（1.0）和所使用的编码（UTF-8 : 万国码, 可显示各种语言）。\n",
    "\n",
    "下一行描述文档的**根元素**（像在说：\"本文档是一个便签\"）："
   ]
  },
  {
   "cell_type": "markdown",
   "metadata": {},
   "source": [
    "```<note> ```"
   ]
  },
  {
   "cell_type": "markdown",
   "metadata": {},
   "source": [
    "接下来 4 行描述根的 4 个子元素（to, from, heading 以及 body）："
   ]
  },
  {
   "cell_type": "markdown",
   "metadata": {},
   "source": [
    "![imageee98c.png](https://miao.su/images/2019/10/01/imageee98c.png)"
   ]
  },
  {
   "cell_type": "markdown",
   "metadata": {},
   "source": [
    "最后一行定义根元素的结尾： "
   ]
  },
  {
   "cell_type": "markdown",
   "metadata": {},
   "source": [
    "`</note>`"
   ]
  },
  {
   "cell_type": "markdown",
   "metadata": {},
   "source": [
    "您可以假设，从这个实例中，XML 文档包含了一张 Jani 写给 Tove 的便签。"
   ]
  },
  {
   "cell_type": "markdown",
   "metadata": {},
   "source": [
    "### XML 文档形成一个树结构\n",
    "\n",
    "XML 文档必须包含**根元素**。该元素是所有其他元素的父元素。\n",
    "\n",
    "XML 文档中的元素形成了一棵文档树。这棵树从根部开始，并扩展到树的最底端。\n",
    "\n",
    "所有的元素都可以有子元素："
   ]
  },
  {
   "cell_type": "markdown",
   "metadata": {},
   "source": [
    "![image5af52.png](https://miao.su/images/2019/10/01/image5af52.png)"
   ]
  },
  {
   "cell_type": "markdown",
   "metadata": {},
   "source": [
    "父、子以及同胞等术语用于描述元素之间的关系。父元素拥有子元素。相同层级上的子元素成为同胞（兄弟或姐妹）。\n",
    "\n",
    "所有的元素都可以有文本内容和属性（类似 HTML 中）。"
   ]
  },
  {
   "cell_type": "markdown",
   "metadata": {},
   "source": [
    "### 实例\n",
    "![imageb6ec3.png](https://miao.su/images/2019/10/01/imageb6ec3.png)\n",
    "上图表示下面的XML中的一本书：\n",
    "![image4064e.png](https://miao.su/images/2019/10/01/image4064e.png)"
   ]
  },
  {
   "cell_type": "markdown",
   "metadata": {},
   "source": [
    "![image7cb48.png](https://miao.su/images/2019/10/01/image7cb48.png)"
   ]
  },
  {
   "cell_type": "markdown",
   "metadata": {},
   "source": [
    "# XML语法规则\n",
    "\n",
    "XML的语法规则很简单，且很有逻辑。\n",
    "\n",
    "### XML文档必须有根元素\n",
    "\n",
    "XML 必须包含根元素，它是所有其他元素的父元素，比如以下实例中 root 就是根元素：\n",
    "![imageadf33.png](https://miao.su/images/2019/10/01/imageadf33.png)\n",
    "一下实例中note是根元素：\n",
    "![image3a760.png](https://miao.su/images/2019/10/01/image3a760.png)\n",
    "\n",
    "### XML声明\n",
    "\n",
    "XML声明文件的可选部分，如果存在需要放在文档的第一行，如下所示：\n",
    "![image445ac.png](https://miao.su/images/2019/10/01/image445ac.png)\n",
    "以上实例包含XML版本（UTF-8 也是HTML5，CSS，JavaScript，PHP，和SQL的默认编码。）\n",
    "\n",
    "### 所有的XML元素都必须有一个关闭标签\n",
    "\n",
    "在HTML中，某些元素不必有一个关闭标签。但是在XML中，省略关闭标签是非法的，**所有元素都必须有关闭标签**。\n",
    "\n",
    "注意：从上面的实例中，您也许已经注意到 XML 声明没有关闭标签。这不是错误。声明不是 XML 文档本身的一部分，它没有关闭标签。\n",
    "\n",
    "### XML标签对大小写敏感\n",
    "\n",
    "XML 标签对大小写敏感。标签` <Letter> `与标签` <letter>` 是不同的。\n",
    "\n",
    "必须使用相同的大小写来编写打开标签和关闭标签："
   ]
  },
  {
   "cell_type": "markdown",
   "metadata": {},
   "source": [
    "<Message>这是错误的</message>\n",
    "<message>这是正确的</message>"
   ]
  },
  {
   "cell_type": "markdown",
   "metadata": {},
   "source": [
    "### XML必须正确嵌套\n",
    "\n",
    "在HTML中，常会看到没有正确嵌套的元素，在XML中，所有远比都必须彼此正确的嵌套。\n",
    "\n",
    "### XML属性值必须加引号\n",
    "\n",
    "与 HTML 类似，XML 元素也可拥有属性（名称/值的对）。\n",
    "\n",
    "在 XML 中，XML 的属性值必须加引号。\n",
    "\n",
    "请研究下面的两个 XML 文档。 第一个是错误的，第二个是正确的："
   ]
  },
  {
   "cell_type": "markdown",
   "metadata": {},
   "source": [
    " <note date=12/11/2007>\n",
    "<to>Tove</to>\n",
    "<from>Jani</from>\n",
    "</note>\n",
    "\n",
    "<note date=\"12/11/2007\">\n",
    "<to>Tove</to>\n",
    "<from>Jani</from>\n",
    "</note>"
   ]
  },
  {
   "cell_type": "markdown",
   "metadata": {},
   "source": [
    "### 实体引用\n",
    "\n",
    "在 XML 中，一些字符拥有特殊的意义。\n",
    "\n",
    "如果您把字符 \"<\" 放在 XML 元素中，会发生错误，这是因为解析器会把它当作新元素的开始。\n",
    "\n",
    "这样会产生 XML 错误：\n",
    "\n",
    "\n",
    "`<message>if salary < 1000 then</message>`\n",
    "\n",
    "为了避免这个错误，请用**实体引用**来代替字符：\n",
    "\n",
    "`<message>if salary &lt; 1000 then</message>`\n",
    "\n",
    "在XML中，有5个预定义的实体引用："
   ]
  },
  {
   "cell_type": "markdown",
   "metadata": {},
   "source": [
    "![imagee06dd.png](https://miao.su/images/2019/10/02/imagee06dd.png)"
   ]
  },
  {
   "cell_type": "markdown",
   "metadata": {},
   "source": [
    "### XML 中的注释\n",
    "\n",
    "在 XML 中编写注释的语法与 HTML 的语法很相似。\n",
    "\n",
    "`<!-- This is a comment -->`\n",
    "\n",
    "### 在XML中，空格会被保留\n",
    "\n",
    "HTML 会把多个连续的空格字符裁减（合并）为一个：\n",
    "![image23d74.png](https://miao.su/images/2019/10/02/image23d74.png)\n",
    "\n",
    "### XML以LF存储换行\n",
    "\n",
    "在 Windows 应用程序中，换行通常以一对字符来存储：回车符（CR）和换行符（LF）。\n",
    "\n",
    "在 Unix 和 Mac OSX 中，使用 LF 来存储新行。\n",
    "\n",
    "在旧的 Mac 系统中，使用 CR 来存储新行。\n",
    "\n",
    "XML 以 LF 存储换行。"
   ]
  },
  {
   "attachments": {},
   "cell_type": "markdown",
   "metadata": {},
   "source": [
    "# XML 元素\n",
    "\n",
    "XML文档包含XML元素\n",
    "\n",
    "### 什么是XML元素\n",
    "\n",
    "XML 元素指的是从（且包括）开始标签直到（且包括）结束标签的部分。\n",
    "\n",
    "一个元素可以包含：\n",
    "\n",
    "* 其他元素\n",
    "* 文本\n",
    "* 属性\n",
    "* 或混合以上所有...\n",
    "\n",
    "![imageeb4e2.png](https://miao.su/images/2019/10/02/imageeb4e2.png)\n",
    "\n",
    "在上面的实例中，`<bookstore>` 和 `<book>` 都有 元素内容，因为他们包含其他元素。`<book>` 元素也有属性（category=\"CHILDREN\"）。`<title>、<author>、<year>` 和`<price>` 有文本内容，因为他们包含文本。\n",
    "    \n",
    "### XML命名规则\n",
    "\n",
    "XML 元素必须遵循以下命名规则：\n",
    "\n",
    "* 名称可以包含字母、数字以及其他的字符\n",
    "* 名称不能以数字或者标点符号开始\n",
    "* 名称不能以字母 xml（或者 XML、Xml 等等）开始\n",
    "* 名称不能包含空格\n",
    "* 可使用任何名称，没有保留的字词。\n",
    "\n",
    "### 最佳命名习惯\n",
    "\n",
    "使名称具有描述性。使用下划线的名称也很不错：<first_name>、<last_name>。\n",
    "\n",
    "名称应简短和简单，比如：<book_title>，而不是：<the_title_of_the_book>。\n",
    "\n",
    "避免 \"-\" 字符。如果您按照这样的方式进行命名：\"first-name\"，一些软件会认为您想要从 first 里边减去 name。\n",
    "\n",
    "避免 \".\" 字符。如果您按照这样的方式进行命名：\"first.name\"，一些软件会认为 \"name\" 是对象 \"first\" 的属性。\n",
    "\n",
    "避免 \":\" 字符。冒号会被转换为命名空间来使用（稍后介绍）。\n",
    "\n",
    "XML 文档经常有一个对应的数据库，其中的字段会对应 XML 文档中的元素。有一个实用的经验，即使用数据库的命名规则来命名 XML 文档中的元素。\n",
    "\n",
    "在 XML 中，éòá 等非英语字母是完全合法的，不过需要留意，您的软件供应商不支持这些字符时可能出现的问题。\n",
    "\n",
    "### XML元素是可扩展的\n",
    "\n",
    "XML 元素是可扩展，以携带更多的信息。\n",
    "\n",
    "请看下面的 XML 实例：\n",
    "\n",
    "![imagef3932.png](https://miao.su/images/2019/10/02/imagef3932.png)\n",
    "让我们设想一下，我们创建了一个应用程序，可将 `<to>`、`<from>` 以及 `<body>` 元素从 XML 文档中提取出来，并产生以下的输出：\n",
    "    \n",
    "![image9ec33.png](https://miao.su/images/2019/10/02/image9ec33.png)\n",
    "\n",
    "想象一下，XML文档的作者添加的一些额外信息：\n",
    "\n",
    "![imagee78d9.png](https://miao.su/images/2019/10/02/imagee78d9.png)\n",
    "\n",
    "那么这个应用程序会中断或崩溃吗？\n",
    "\n",
    "不会。这个应用程序仍然可以找到 XML 文档中的 `<to>`、`<from>` 以及 `<body`> 元素，并产生同样的输出。\n",
    "\n",
    "XML 的优势之一，就是可以在不中断应用程序的情况下进行扩展。"
   ]
  },
  {
   "attachments": {},
   "cell_type": "markdown",
   "metadata": {},
   "source": [
    "# XML 属性\n",
    "\n",
    "XML元素具有属性，类似 HTML。\n",
    "\n",
    "属性（Attribute）提供有关元素的额外信息。\n",
    "\n",
    "### XML属性\n",
    "\n",
    "在HTML中，属性提供有关元素的额外信息：\n",
    "![imageedd58.png](https://miao.su/images/2019/10/02/imageedd58.png)\n",
    "属性通常提供不属于数据组成部分的信息。在下面的实例中，文件类型与数据无关，但是对需要处理这个元素的软件来说却很重要：\n",
    "![image4ca93.png](https://miao.su/images/2019/10/02/image4ca93.png)\n",
    "\n",
    "### XML属性必须加引号\n",
    "\n",
    "属性值必须被引号包围，不过单引号和双引号均可使用。比如一个人的性别，person 元素可以这样写：\n",
    "![image67b55.png](https://miao.su/images/2019/10/02/image67b55.png)\n",
    "或者这样也可以：\n",
    "![image94655.png](https://miao.su/images/2019/10/02/image94655.png)\n",
    "如果属性值本身包含双引号，您可以使用单引号，就像这个实例：\n",
    "![image12b8b.png](https://miao.su/images/2019/10/02/image12b8b.png)\n",
    "或者您可以使用字符实体：\n",
    "![imagea0d94.png](https://miao.su/images/2019/10/02/imagea0d94.png)\n",
    "\n",
    "### XML元素vs.属性\n",
    "\n",
    "![image2359a.png](https://miao.su/images/2019/10/02/image2359a.png)\n",
    "在第一个实例中，sex 是一个属性。在第二个实例中，sex 是一个元素。这两个实例都提供相同的信息。\n",
    "\n",
    "没有什么规矩可以告诉我们什么时候该使用属性，而什么时候该使用元素。我的经验是在 HTML 中，属性用起来很便利，但是在 XML 中，您应该**尽量避免使用属性**。如果信息感觉起来很像数据，那么请使用元素吧。"
   ]
  },
  {
   "attachments": {},
   "cell_type": "markdown",
   "metadata": {},
   "source": [
    "### 参考方式\n",
    "![imagee6902.png](https://miao.su/images/2019/10/02/imagee6902.png)\n",
    "### 避免XML属性？\n",
    "\n",
    "因使用属性而引起的一些问题：\n",
    "\n",
    "* 属性不能包含多个值（元素可以）\n",
    "* 属性不能包含树结构（元素可以）\n",
    "* 属性不容易扩展（为未来的变化）\n",
    "* 属性难以阅读和维护。请尽量使用元素来描述数据。而仅仅使用属性来提供与数据无关的信息。\n",
    "\n",
    "不要做这样的蠢事（这不是 XML 应该被使用的方式）：\n",
    "![imagebc783.png](https://miao.su/images/2019/10/02/imagebc783.png)\n",
    "\n",
    "### 针对元数据的XML属性\n",
    "\n",
    "有时候会向元素分配 ID 引用。这些 ID 索引可用于标识 XML 元素，它起作用的方式与 HTML 中 id 属性是一样的。这个实例向我们演示了这种情况：\n",
    "![image13f80.png](https://miao.su/images/2019/10/02/image13f80.png)"
   ]
  },
  {
   "cell_type": "code",
   "execution_count": null,
   "metadata": {},
   "outputs": [],
   "source": []
  }
 ],
 "metadata": {
  "kernelspec": {
   "display_name": "Python 3",
   "language": "python",
   "name": "python3"
  },
  "language_info": {
   "codemirror_mode": {
    "name": "ipython",
    "version": 3
   },
   "file_extension": ".py",
   "mimetype": "text/x-python",
   "name": "python",
   "nbconvert_exporter": "python",
   "pygments_lexer": "ipython3",
   "version": "3.7.3"
  }
 },
 "nbformat": 4,
 "nbformat_minor": 2
}
