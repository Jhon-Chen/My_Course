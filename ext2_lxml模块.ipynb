{
 "cells": [
  {
   "cell_type": "markdown",
   "metadata": {},
   "source": [
    "# lxml.etree的使用\n",
    "以下是用`lxml.etree`处理XML文件的使用指导，主要简短描述了ElementTree API的主要功能。\n",
    "首先，导入模块："
   ]
  },
  {
   "cell_type": "code",
   "execution_count": 1,
   "metadata": {},
   "outputs": [],
   "source": [
    "from lxml import etree\n",
    "from lxml import objectify"
   ]
  },
  {
   "cell_type": "markdown",
   "metadata": {},
   "source": [
    "### 元素类\n",
    "ElementTree API的主要数据承载对象时元素。大部分XML树可以通过元素的方式访问。"
   ]
  },
  {
   "cell_type": "code",
   "execution_count": 2,
   "metadata": {},
   "outputs": [],
   "source": [
    "# 创建一个ElementTree对象，根节点为root，对象名为root\n",
    "root = etree.Element(\"root\")"
   ]
  },
  {
   "cell_type": "markdown",
   "metadata": {},
   "source": [
    "XML的标签名称可以通过`tag` 属性访问："
   ]
  },
  {
   "cell_type": "code",
   "execution_count": 3,
   "metadata": {},
   "outputs": [
    {
     "name": "stdout",
     "output_type": "stream",
     "text": [
      "root\n"
     ]
    }
   ],
   "source": [
    "print(root.tag)"
   ]
  },
  {
   "cell_type": "markdown",
   "metadata": {},
   "source": [
    "元素是XML树结构的主要组成部分，在树中加入子节点可以使用`append`"
   ]
  },
  {
   "cell_type": "code",
   "execution_count": 4,
   "metadata": {},
   "outputs": [],
   "source": [
    "root.append(etree.Element(\"child1\"))"
   ]
  },
  {
   "cell_type": "markdown",
   "metadata": {},
   "source": [
    "当然，我们也有更简单的方法添加子节点： "
   ]
  },
  {
   "cell_type": "code",
   "execution_count": 5,
   "metadata": {},
   "outputs": [],
   "source": [
    "child2 = etree.SubElement(root, \"child2\")\n",
    "child3 = etree.SubElement(root, \"child3\")"
   ]
  },
  {
   "cell_type": "markdown",
   "metadata": {},
   "source": [
    "这样就形成了一个真实的XML文档，你可以查看他的结构："
   ]
  },
  {
   "cell_type": "code",
   "execution_count": 6,
   "metadata": {},
   "outputs": [
    {
     "name": "stdout",
     "output_type": "stream",
     "text": [
      "b'<root>\\n  <child1/>\\n  <child2/>\\n  <child3/>\\n</root>\\n'\n"
     ]
    }
   ],
   "source": [
    "print(etree.tostring(root, pretty_print=True))"
   ]
  },
  {
   "cell_type": "markdown",
   "metadata": {},
   "source": [
    "### 元素以列表形式存在\n",
    "想要简单直接的访问这些子节点，元素可以利用类似于普通Pyhton列表的一些方法。"
   ]
  },
  {
   "cell_type": "code",
   "execution_count": 7,
   "metadata": {},
   "outputs": [
    {
     "name": "stdout",
     "output_type": "stream",
     "text": [
      "child1\n"
     ]
    }
   ],
   "source": [
    "child = root[0]\n",
    "print(child.tag)"
   ]
  },
  {
   "cell_type": "code",
   "execution_count": 8,
   "metadata": {},
   "outputs": [
    {
     "name": "stdout",
     "output_type": "stream",
     "text": [
      "3\n"
     ]
    }
   ],
   "source": [
    "print(len(root))"
   ]
  },
  {
   "cell_type": "code",
   "execution_count": 9,
   "metadata": {},
   "outputs": [
    {
     "data": {
      "text/plain": [
       "1"
      ]
     },
     "execution_count": 9,
     "metadata": {},
     "output_type": "execute_result"
    }
   ],
   "source": [
    "root.index(root[1])  # 需要导入objectify模块才可以使用！"
   ]
  },
  {
   "cell_type": "code",
   "execution_count": 10,
   "metadata": {},
   "outputs": [
    {
     "name": "stdout",
     "output_type": "stream",
     "text": [
      "child1\n",
      "child2\n",
      "child3\n"
     ]
    }
   ],
   "source": [
    "children = list(root)\n",
    "# 同样可以进行循环的操作\n",
    "for child in root:\n",
    "    print(child.tag)"
   ]
  },
  {
   "cell_type": "code",
   "execution_count": 11,
   "metadata": {},
   "outputs": [
    {
     "name": "stdout",
     "output_type": "stream",
     "text": [
      "child0\n",
      "child3\n"
     ]
    }
   ],
   "source": [
    "root.insert(0, etree.Element(\"child0\"))\n",
    "# 同样可以进行切片的操作\n",
    "start= root[:1]\n",
    "end = root[-1:]\n",
    "print(start[0].tag)\n",
    "print(end[0].tag)"
   ]
  },
  {
   "cell_type": "markdown",
   "metadata": {},
   "source": [
    "查看是否是节点元素类型"
   ]
  },
  {
   "cell_type": "code",
   "execution_count": 12,
   "metadata": {},
   "outputs": [
    {
     "name": "stdout",
     "output_type": "stream",
     "text": [
      "True\n"
     ]
    }
   ],
   "source": [
    "print(etree.iselement(root))"
   ]
  },
  {
   "cell_type": "markdown",
   "metadata": {},
   "source": [
    "查看根节点是否还有子节点 "
   ]
  },
  {
   "cell_type": "code",
   "execution_count": 13,
   "metadata": {},
   "outputs": [
    {
     "name": "stdout",
     "output_type": "stream",
     "text": [
      "The root element has children\n"
     ]
    }
   ],
   "source": [
    "if len(root):\n",
    "    print(\"The root element has children\")"
   ]
  },
  {
   "cell_type": "markdown",
   "metadata": {},
   "source": [
    "### 元素节点的覆盖移动\n",
    "这一点和列表不同，列表的赋值是拷贝，而ElementTree树的操作是直接覆盖移动"
   ]
  },
  {
   "cell_type": "code",
   "execution_count": 14,
   "metadata": {},
   "outputs": [
    {
     "name": "stdout",
     "output_type": "stream",
     "text": [
      "child0\n",
      "child1\n",
      "child2\n",
      "child3\n",
      "******************************\n",
      "child3\n",
      "child1\n",
      "child2\n"
     ]
    }
   ],
   "source": [
    "for child in root:\n",
    "    print(child.tag)\n",
    "root[0] = root[-1]\n",
    "print(\"*\"*30)\n",
    "for child in root:\n",
    "    print(child.tag)"
   ]
  },
  {
   "cell_type": "markdown",
   "metadata": {},
   "source": [
    "如果你想将节点元素拷贝到`lxml.etree`中的新位置，就要使用Python的copy模块中的深拷贝`deep copy`来完成。"
   ]
  },
  {
   "cell_type": "code",
   "execution_count": 15,
   "metadata": {},
   "outputs": [
    {
     "name": "stdout",
     "output_type": "stream",
     "text": [
      "child1\n",
      "['child3', 'child1', 'child2']\n"
     ]
    }
   ],
   "source": [
    "from copy import deepcopy\n",
    "# 创建一个名为elemet的对象，根节点名为neu\n",
    "element = etree.Element(\"neu\")\n",
    "# 通过深拷贝（新内存地址）向对象添加子节点\n",
    "element.append(deepcopy(root[1]))\n",
    "print(element[0].tag)\n",
    "# 显然，并没有移走原来的root[1]节点\n",
    "print([c.tag for c in root])"
   ]
  },
  {
   "cell_type": "markdown",
   "metadata": {},
   "source": [
    "通过兄弟节点也可以互相访问"
   ]
  },
  {
   "cell_type": "code",
   "execution_count": 16,
   "metadata": {},
   "outputs": [
    {
     "data": {
      "text/plain": [
       "True"
      ]
     },
     "execution_count": 16,
     "metadata": {},
     "output_type": "execute_result"
    }
   ],
   "source": [
    "root[0] is root[1].getprevious()\n",
    "root[1] is root[0].getnext()"
   ]
  },
  {
   "cell_type": "markdown",
   "metadata": {},
   "source": [
    "### 节点元素以字典的方式携带属性\n",
    "XML元素支持属性，通过字典的方式携带元素属性"
   ]
  },
  {
   "cell_type": "code",
   "execution_count": 17,
   "metadata": {},
   "outputs": [
    {
     "data": {
      "text/plain": [
       "b'<root interesting=\"totally\"/>'"
      ]
     },
     "execution_count": 17,
     "metadata": {},
     "output_type": "execute_result"
    }
   ],
   "source": [
    "root = etree.Element(\"root\", interesting=\"totally\")\n",
    "etree.tostring(root)"
   ]
  },
  {
   "cell_type": "markdown",
   "metadata": {},
   "source": [
    "元素的属性是无序的键值对，所以一个方便的方式来处理他们就是类似Python的字典处理方式 "
   ]
  },
  {
   "cell_type": "code",
   "execution_count": 18,
   "metadata": {},
   "outputs": [
    {
     "name": "stdout",
     "output_type": "stream",
     "text": [
      "totally\n",
      "None\n",
      "Hengheng\n",
      "hello = Hengheng\n",
      "interesting = totally\n"
     ]
    }
   ],
   "source": [
    "# 使用 根节点.get(\"属性名\") 来获取元素的属性信息\n",
    "print(root.get(\"interesting\"))\n",
    "print(root.get(\"hello\"))\n",
    "# 可以使用set来设置属性\n",
    "root.set(\"hello\", \"Hengheng\")\n",
    "print(root.get(\"hello\"))\n",
    "for name, value in sorted(root.items()):\n",
    "    print('%s = %s' % (name, value))"
   ]
  },
  {
   "cell_type": "markdown",
   "metadata": {},
   "source": [
    "如果你想要的真的类字典操作，可以进行如下处理："
   ]
  },
  {
   "cell_type": "code",
   "execution_count": 19,
   "metadata": {},
   "outputs": [
    {
     "name": "stdout",
     "output_type": "stream",
     "text": [
      "totally\n",
      "None\n",
      "tag\n"
     ]
    }
   ],
   "source": [
    "attributes = root.attrib\n",
    "print(attributes[\"interesting\"])\n",
    "print(attributes.get(\"no-such-attribute\"))\n",
    "attributes[\"hello\"] = \"tag\"\n",
    "print(attributes.get(\"hello\"))"
   ]
  },
  {
   "cell_type": "markdown",
   "metadata": {},
   "source": [
    "# 从字符串或者文件解析\n",
    "\n",
    "`lxml.tree`支持以各种方式解析XML文件，可以解析字符串、文件、URLs或者其他类文件对象。主要的解析函数是`fromstring()`和`parse()`。\n",
    "\n",
    "### `fromstring()函数`\n",
    "\n",
    "`fromstring()`可以轻松的解析一个字符串："
   ]
  },
  {
   "cell_type": "code",
   "execution_count": 20,
   "metadata": {},
   "outputs": [
    {
     "name": "stdout",
     "output_type": "stream",
     "text": [
      "root\n"
     ]
    },
    {
     "data": {
      "text/plain": [
       "b'<root>data</root>'"
      ]
     },
     "execution_count": 20,
     "metadata": {},
     "output_type": "execute_result"
    }
   ],
   "source": [
    "# 字符串\n",
    "some_xml_data = \"<root>data</root>\"\n",
    "# 使用fromstring来解析\n",
    "root = etree.fromstring(some_xml_data)\n",
    "print(root.tag)\n",
    "etree.tostring(root)"
   ]
  },
  {
   "cell_type": "markdown",
   "metadata": {},
   "source": [
    "### `XML()`函数\n",
    "\n",
    "`xml()`函数和`fromstring()`函数功能类似，但是一般把要解析的XML文本直接写入在其中："
   ]
  },
  {
   "cell_type": "code",
   "execution_count": 21,
   "metadata": {},
   "outputs": [
    {
     "name": "stdout",
     "output_type": "stream",
     "text": [
      "root\n"
     ]
    },
    {
     "data": {
      "text/plain": [
       "b'<root>data</root>'"
      ]
     },
     "execution_count": 21,
     "metadata": {},
     "output_type": "execute_result"
    }
   ],
   "source": [
    "root = etree.XML(\"<root>data</root>\")\n",
    "print(root.tag)\n",
    "etree.tostring(root)"
   ]
  },
  {
   "cell_type": "markdown",
   "metadata": {},
   "source": [
    "### `parse()`函数\n",
    "\n",
    "`parse()`函数用来处理文件和类文件的数据。注意，`parse()`函数返回以一个元素树对象，而不是一个元素。与字符串处理方法不同的是，处理完文件之后`parse()`返回的是一个完整的文件，而字符串只是用来处理一个XML段落。"
   ]
  },
  {
   "cell_type": "markdown",
   "metadata": {},
   "source": [
    "### 解析器对象\n",
    "\n",
    "默认来说，`lxml.etree`使用标准解析来处理，如果你想要自定义解析器，你就需要在定义解析器时指定参数。"
   ]
  },
  {
   "cell_type": "code",
   "execution_count": 22,
   "metadata": {},
   "outputs": [],
   "source": [
    "# etree.XMLParser??"
   ]
  },
  {
   "cell_type": "code",
   "execution_count": 23,
   "metadata": {},
   "outputs": [
    {
     "data": {
      "text/plain": [
       "b'<root><a/><b>  </b></root>'"
      ]
     },
     "execution_count": 23,
     "metadata": {},
     "output_type": "execute_result"
    }
   ],
   "source": [
    "# 自定义一个解析器对象，选择我需要的功能\n",
    "parser = etree.XMLParser(remove_blank_text = True)\n",
    "# 注意：最里面的叶子节点的元素不会被去空格，因为最内层叶子中被认为是数据值。\n",
    "root = etree.XML(\"<root> <a/>   <b>  </b>    </root>\", parser)\n",
    "etree.tostring(root)"
   ]
  },
  {
   "cell_type": "markdown",
   "metadata": {},
   "source": [
    "#### 分步解析\n",
    "\n",
    "`lxml.etree`提供了两种一步步解析的方法。一种针对类文件，最合适是用再`urllib`，比如："
   ]
  },
  {
   "cell_type": "code",
   "execution_count": 24,
   "metadata": {},
   "outputs": [
    {
     "data": {
      "text/plain": [
       "b'<root><a/></root>'"
      ]
     },
     "execution_count": 24,
     "metadata": {},
     "output_type": "execute_result"
    }
   ],
   "source": [
    "class DataSource:\n",
    "    data = [ b\"<roo\", b\"t><\", b\"a/\", b\"><\", b\"/root>\" ]\n",
    "    def read(self, requested_size):\n",
    "        try:\n",
    "            return self.data.pop(0)\n",
    "        except IndexError:\n",
    "            return b''\n",
    "        \n",
    "tree = etree.parse(DataSource())\n",
    "etree.tostring(tree)"
   ]
  },
  {
   "cell_type": "markdown",
   "metadata": {},
   "source": [
    "第二种方法是通过`feed`一步步传入数据，最后用`close()`结尾。"
   ]
  },
  {
   "cell_type": "code",
   "execution_count": 25,
   "metadata": {},
   "outputs": [
    {
     "data": {
      "text/plain": [
       "b'<root><a/></root>'"
      ]
     },
     "execution_count": 25,
     "metadata": {},
     "output_type": "execute_result"
    }
   ],
   "source": [
    "parser = etree.XMLParser()\n",
    "parser.feed(\"<roo\")\n",
    "parser.feed(\"t><\")\n",
    "parser.feed(\"a/\")\n",
    "parser.feed(\"><\")\n",
    "parser.feed(\"/root>\")\n",
    "root = parser.close()\n",
    "etree.tostring(root)"
   ]
  },
  {
   "cell_type": "markdown",
   "metadata": {},
   "source": [
    "#### 事件驱动型解析\n",
    "\n",
    "有时候你所需要解析的内容只是整个文件的一小部分，如果整个文件解析成元素树，那么就是深处的叶子节点，与其说将整个树都解析到内存中，不如使用`lxml.etree`提供的`iterparse()`方法。下面是一个简单的例子："
   ]
  },
  {
   "cell_type": "code",
   "execution_count": 33,
   "metadata": {},
   "outputs": [
    {
     "name": "stdout",
     "output_type": "stream",
     "text": [
      "end,    a, data\n",
      "end, root, None\n"
     ]
    }
   ],
   "source": [
    "from io import BytesIO\n",
    "some_file_like = BytesIO(b\"<root><a>data</a></root>\")\n",
    "for event, element in etree.iterparse(some_file_like):\n",
    "    print(\"%s, %4s, %s\" % (event, element.tag, element.text))"
   ]
  },
  {
   "cell_type": "markdown",
   "metadata": {},
   "source": [
    "就默认情况下，`iterparse()` 对元素解析仅仅生成一个事件，不过你可以通过`events`关键词来修改它。"
   ]
  },
  {
   "cell_type": "code",
   "execution_count": 34,
   "metadata": {},
   "outputs": [
    {
     "name": "stdout",
     "output_type": "stream",
     "text": [
      "start, root, None\n",
      "start,    a, data\n",
      "  end,    a, data\n",
      "  end, root, None\n"
     ]
    }
   ],
   "source": [
    "some_file_like = BytesIO(b\"<root><a>data</a></root>\")\n",
    "for event, element in etree.iterparse(some_file_like, events=(\"start\", \"end\")):\n",
    "    print(\"%5s, %4s, %s\" % (event, element.tag, element.text))\n",
    "# 注意，这种情况下只有当end结束才意味着整个XMl解析完成"
   ]
  },
  {
   "cell_type": "markdown",
   "metadata": {},
   "source": [
    "同样的，他允许你用`.clear()` 方法，也允许修改树中某个节点的值。所以在当树过大而你又想要节省内存空间的时候，可以使用`.clear()`来清空一部分树。参数`keep_tail = True`和`.clear()`方法保证了尾部的文件内容不会被清除。非常不建议在没有解析完全部文本的时候修改任何的内容。"
   ]
  },
  {
   "cell_type": "code",
   "execution_count": 39,
   "metadata": {},
   "outputs": [
    {
     "name": "stdout",
     "output_type": "stream",
     "text": [
      "data\n",
      "** cleaning up the subtree\n",
      "None\n",
      "** cleaning up the subtree\n"
     ]
    }
   ],
   "source": [
    "some_file_like = BytesIO(b\"<root><a><b>data</b></a><a><b/></a></root>\")\n",
    "for event, element in etree.iterparse(some_file_like):\n",
    "    if element.tag == 'b':\n",
    "        print(element.text)\n",
    "    elif element.tag == 'a':\n",
    "        print(\"** cleaning up the subtree\")\n",
    "        element.clear()"
   ]
  },
  {
   "cell_type": "markdown",
   "metadata": {},
   "source": [
    " `iterparse()`的一个重要用途是用来解析大型XML文件。这些文件都是上面有一个根节点，而下面是成百上千的子节点。"
   ]
  },
  {
   "cell_type": "code",
   "execution_count": 43,
   "metadata": {},
   "outputs": [
    {
     "name": "stdout",
     "output_type": "stream",
     "text": [
      "ABC -- abc\n",
      "MORE DATA -- more data\n",
      "XYZ -- xyz\n"
     ]
    }
   ],
   "source": [
    "xml_file = BytesIO(b'''\\\n",
    "    <root>\n",
    "        <a><b>ABC</b><c>abc</c></a>\n",
    "        <a><b>MORE DATA</b><c>more data</c></a>\n",
    "        <a><b>XYZ</b><c>xyz</c></a>\n",
    "     </root>''')\n",
    "\n",
    "for _, element in etree.iterparse(xml_file, tag='a'):\n",
    "    # element[1].text表示对其中取值，findtext(b)表示寻找<b>标签中的值\n",
    "    print('%s -- %s' % (element.findtext('b'), element[1].text))\n",
    "    element.clear()"
   ]
  },
  {
   "cell_type": "markdown",
   "metadata": {},
   "source": [
    " **待更新**"
   ]
  },
  {
   "cell_type": "code",
   "execution_count": null,
   "metadata": {},
   "outputs": [],
   "source": []
  },
  {
   "cell_type": "markdown",
   "metadata": {},
   "source": [
    "# Xpath语法\n",
    "\n",
    "`lxml.etree`支持简单的路径语法来*查找*、*查找所有*、*查找文本*。\n",
    "\n",
    "### 选取节点\n",
    "XPath使用路径表达式在XML文档中选取节点。节点是通过沿着路径或者step来选取的。\n",
    "\n",
    "**以下是常用的路径表达式：**"
   ]
  },
  {
   "cell_type": "markdown",
   "metadata": {},
   "source": [
    "`nodename`：选取此节点的所有子节点\n",
    "\n",
    "`/`：从根节点选取（绝对选取）\n",
    "\n",
    "`//`：从匹配选择的当前节点选择文档中的节点，而不考虑他们的位置（相对选取）\n",
    "\n",
    "`.`：选取当前节点\n",
    "\n",
    "`..`：选取当前节点的子节点\n",
    "\n",
    "`@`：选取属性"
   ]
  },
  {
   "cell_type": "markdown",
   "metadata": {},
   "source": [
    "### 谓语（Predicates） \n",
    "谓语用来查找某个特定的节点或者包含某个指定的值得节点，谓语被镶嵌在方括号中。\n",
    "\n",
    "`/bookstore/book[1]`：选取属于 bookstore 子元素的第一个 book 元素。\n",
    "\n",
    "`/bookstore/book[last()]`\t选取属于 bookstore 子元素的最后一个 book 元素。\n",
    "\n",
    "`/bookstore/book[last()-1]`\t选取属于 bookstore 子元素的倒数第二个 book 元素。\n",
    "\n",
    "`/bookstore/book[position()<3]`\t选取最前面的两个属于 bookstore 元素的子元素的 book 元素。\n",
    "\n",
    "`//title[@lang]`\t选取所有拥有名为 lang 的属性的 title 元素。\n",
    "\n",
    "`//title[@lang='eng']`\t选取所有 title 元素，且这些元素拥有值为 eng 的 lang 属性。\n",
    "\n",
    "`/bookstore/book[price>35.00]`\t选取 bookstore 元素的所有 book 元素，且其中的 price 元素的值须大于 35.00。\n",
    "\n",
    "`/bookstore/book[price>35.00]/title`\t选取 bookstore 元素中的 book 元素的所有 title 元素，且其中的 price 元素的值须大于 35.00。"
   ]
  },
  {
   "cell_type": "markdown",
   "metadata": {},
   "source": [
    "### 选取未知节点\n",
    "\n",
    "XPath通配符可用来选取未知的XMl元素\n",
    "\n",
    "`*`：匹配任何元素节点。\n",
    "\n",
    "`@*`：匹配任何属性节点。\n",
    "\n",
    "`node()`：匹配任何类型的节点。"
   ]
  },
  {
   "cell_type": "markdown",
   "metadata": {},
   "source": [
    "### 选取若干路径\n",
    "\n",
    "通过在路径表达式中使用\"|\"运算符，您可以选取若若干个路径。"
   ]
  },
  {
   "cell_type": "markdown",
   "metadata": {},
   "source": [
    "**暂略**"
   ]
  },
  {
   "cell_type": "markdown",
   "metadata": {},
   "source": [
    "## lxml.objectify模块的使用\n",
    "在使用`objectify`的时候，既会用到`lxml.etree`模块也会用到`lxml.object`模块。"
   ]
  },
  {
   "cell_type": "code",
   "execution_count": null,
   "metadata": {},
   "outputs": [],
   "source": [
    "from lxml import etree\n",
    "from lxml import objectify"
   ]
  },
  {
   "cell_type": "markdown",
   "metadata": {},
   "source": [
    "### 通过对象属性访问元素\n",
    "`objectify`API和`ElementTree`API不同，一旦使用这个API就不应该与别的元素处理混合使用。\n",
    "这个API的主要思想是将XML元素的访问方法隐藏于普通元素对象的访问方法中。通过元素属性访问，将返回带有相应标签名称的子元素序列。\n"
   ]
  },
  {
   "cell_type": "code",
   "execution_count": null,
   "metadata": {},
   "outputs": [],
   "source": [
    "root = objectify.Element(\"root\")\n",
    "b = objectify.SubElement(root, \"b\")\n",
    "# 根节点下子节点b的第一个元素的标签值\n",
    "print(root.b[0].tag)\n",
    "# 节点b的第一个元素的下标\n",
    "# root.index(root.b[0])\n",
    "# 更简洁的写法，可以省略下标0来访问第一个孩子节点\n",
    "root.index(root.b)"
   ]
  },
  {
   "cell_type": "markdown",
   "metadata": {},
   "source": [
    "*暂略*"
   ]
  },
  {
   "cell_type": "markdown",
   "metadata": {},
   "source": [
    "#  用lxml解析XML和HTML\n",
    "\n",
    "对于XMl和HTMl的解析，lxml提供了一个简单有效的API。\n",
    "简单的步骤如下："
   ]
  },
  {
   "cell_type": "code",
   "execution_count": null,
   "metadata": {},
   "outputs": [],
   "source": [
    "from lxml import etree"
   ]
  },
  {
   "cell_type": "code",
   "execution_count": null,
   "metadata": {},
   "outputs": [],
   "source": [
    "# 下面的例子是使用IO模块进行文件的导入的\n",
    "from io import StringIO, BytesIO"
   ]
  },
  {
   "cell_type": "markdown",
   "metadata": {},
   "source": [
    "### 解析器"
   ]
  },
  {
   "cell_type": "code",
   "execution_count": null,
   "metadata": {},
   "outputs": [],
   "source": [
    "xml = '<a xmlns=\"test\"><b xmlns=\"test\"/></a>'\n",
    "root = etree.fromstring(xml)\n",
    "etree.tostring(root)"
   ]
  },
  {
   "cell_type": "markdown",
   "metadata": {},
   "source": [
    "从一个文件读取对象，你可以使用`prase()`函数，会返回一个元素树对象"
   ]
  },
  {
   "cell_type": "code",
   "execution_count": null,
   "metadata": {},
   "outputs": [],
   "source": [
    "tree = etree.parse(StringIO(xml))\n",
    "etree.tostring(tree.getroot())"
   ]
  },
  {
   "cell_type": "markdown",
   "metadata": {},
   "source": [
    "**我们现在从本地读取文件：**"
   ]
  },
  {
   "cell_type": "code",
   "execution_count": null,
   "metadata": {},
   "outputs": [],
   "source": [
    "tree = etree.parse(\"C:\\\\Users\\\\Administrator\\\\Desktop\\\\CFturbo机器学习课题\\\\临时泵模型\\\\混流1.cft-batch\")"
   ]
  },
  {
   "cell_type": "markdown",
   "metadata": {},
   "source": [
    "### 解析的选项\n",
    "\n",
    "解析时我们接受一个关键字参数作为设置选项，通过这个我们可以轻松的清理命名空间"
   ]
  },
  {
   "cell_type": "code",
   "execution_count": null,
   "metadata": {},
   "outputs": [],
   "source": [
    "parser = etree.XMLParser(ns_clean=True)\n",
    "tree = etree.parse(StringIO(xml), parser)\n",
    "etree.tostring(tree.getroot())"
   ]
  },
  {
   "cell_type": "code",
   "execution_count": null,
   "metadata": {},
   "outputs": [],
   "source": [
    "tree = etree.parse(\"C:\\\\Users\\\\Administrator\\\\Desktop\\\\CFturbo机器学习课题\\\\临时泵模型\\\\混流1.cft-batch\")\n",
    "root = tree.getroot()"
   ]
  },
  {
   "cell_type": "markdown",
   "metadata": {},
   "source": [
    " **待更新**"
   ]
  },
  {
   "cell_type": "code",
   "execution_count": null,
   "metadata": {},
   "outputs": [],
   "source": []
  },
  {
   "cell_type": "code",
   "execution_count": null,
   "metadata": {},
   "outputs": [],
   "source": []
  }
 ],
 "metadata": {
  "kernelspec": {
   "display_name": "Python 3",
   "language": "python",
   "name": "python3"
  },
  "language_info": {
   "codemirror_mode": {
    "name": "ipython",
    "version": 3
   },
   "file_extension": ".py",
   "mimetype": "text/x-python",
   "name": "python",
   "nbconvert_exporter": "python",
   "pygments_lexer": "ipython3",
   "version": "3.7.3"
  }
 },
 "nbformat": 4,
 "nbformat_minor": 2
}
