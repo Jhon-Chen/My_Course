{
 "cells": [
  {
   "cell_type": "code",
   "execution_count": 17,
   "metadata": {},
   "outputs": [],
   "source": [
    "# 导入模块\n",
    "import numpy as np\n",
    "import pandas as pd\n",
    "from lxml import etree\n",
    "from lxml import objectify\n",
    "# 机器学习模块\n",
    "from sklearn.feature_extraction import DictVectorizer"
   ]
  },
  {
   "cell_type": "code",
   "execution_count": 8,
   "metadata": {},
   "outputs": [
    {
     "data": {
      "text/plain": [
       "{'EnergyRel': ['1'],\n",
       " 'Hub diameter': ['0.03309'],\n",
       " 'Suction diameter': ['0.1274'],\n",
       " 'Outlet width': ['0.0267'],\n",
       " 'Impeller diameter': ['0.178']}"
      ]
     },
     "execution_count": 8,
     "metadata": {},
     "output_type": "execute_result"
    }
   ],
   "source": [
    "\"\"\"读取文件\"\"\"\n",
    "path = \"E:\\\\CFturbo机器学习课题\\\\临时泵模型\\\\混流1批处理.cft-batch\"\n",
    "# 使用lxml解析\n",
    "tree = objectify.parse(open(path))\n",
    "\n",
    "\"\"\"通过XPath提取所需的数据，先保存为一个包含字典的列表，待提取完成后再转换为DataFrame进行数据分析\"\"\"\n",
    "data = []\n",
    "root = tree.getroot()\n",
    "dict = {}\n",
    "# 通过XPath语法\n",
    "\n",
    "\n",
    "\n",
    "# 1.取主要设计尺寸各个节点中的参数\n",
    "# dict[\"InputFile\"] = tree.xpath('//@InputFile')\n",
    "dict[\"EnergyRel\"] = tree.xpath('//MainDimensionsElement/EnergyRel/text()')\n",
    "dict[\"Hub diameter\"] = tree.xpath('//MainDimensionsElement/dN/text()')\n",
    "dict[\"Suction diameter\"] = tree.xpath('//MainDimensionsElement/dS/text()')\n",
    "dict[\"Outlet width\"] = tree.xpath('//MainDimensionsElement/b2/text()')\n",
    "dict[\"Impeller diameter\"] = tree.xpath('//MainDimensionsElement/d2/text()')\n",
    "\n",
    "dict"
   ]
  },
  {
   "cell_type": "code",
   "execution_count": 19,
   "metadata": {},
   "outputs": [],
   "source": [
    "\"\"\"针对转速进行特征提取分析（由于XML文件中无法提取这些信息，故需手动整理成文档，假设已整理好文档）\"\"\"\n",
    "def dict_vec_rotate():\n",
    "    \n",
    "    # 实例化dict_rotate\n",
    "    dict_rotate = DictVectorizer(sparse=False)\n",
    "    \n",
    "    # 调用fit_transform\n",
    "    data_rotate = dict_rotate.fit_transform([{'city': '北京','temperature':100},{'city': '上海','temperature':60},{'city': '深圳','temperature':30}])\n",
    "    \n",
    "    # 打印每一列的名称\n",
    "    print(dict_rotate.get_feature_names())\n",
    "    print(data)\n",
    "    \n",
    "    \n",
    "    \n",
    "    return None"
   ]
  },
  {
   "cell_type": "code",
   "execution_count": 20,
   "metadata": {},
   "outputs": [
    {
     "name": "stdout",
     "output_type": "stream",
     "text": [
      "['city=上海', 'city=北京', 'city=深圳', 'temperature']\n",
      "[]\n"
     ]
    }
   ],
   "source": [
    "if __name__ == '__main__':\n",
    "    dict_vec_rotate()"
   ]
  },
  {
   "cell_type": "code",
   "execution_count": null,
   "metadata": {},
   "outputs": [],
   "source": []
  },
  {
   "cell_type": "code",
   "execution_count": null,
   "metadata": {},
   "outputs": [],
   "source": []
  },
  {
   "cell_type": "code",
   "execution_count": null,
   "metadata": {},
   "outputs": [],
   "source": []
  },
  {
   "cell_type": "code",
   "execution_count": null,
   "metadata": {},
   "outputs": [],
   "source": []
  }
 ],
 "metadata": {
  "kernelspec": {
   "display_name": "Python 3",
   "language": "python",
   "name": "python3"
  },
  "language_info": {
   "codemirror_mode": {
    "name": "ipython",
    "version": 3
   },
   "file_extension": ".py",
   "mimetype": "text/x-python",
   "name": "python",
   "nbconvert_exporter": "python",
   "pygments_lexer": "ipython3",
   "version": "3.6.9"
  }
 },
 "nbformat": 4,
 "nbformat_minor": 2
}
