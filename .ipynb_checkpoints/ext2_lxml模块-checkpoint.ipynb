{
 "cells": [
  {
   "cell_type": "markdown",
   "metadata": {},
   "source": [
    "# lxml.etree的使用\n",
    "以下是用`lxml.etree`处理XML文件的使用指导，主要简短描述了ElementTree API的主要功能。\n",
    "首先，导入模块："
   ]
  },
  {
   "cell_type": "code",
   "execution_count": 1,
   "metadata": {},
   "outputs": [],
   "source": [
    "from lxml import etree\n",
    "from lxml import objectify"
   ]
  },
  {
   "cell_type": "markdown",
   "metadata": {},
   "source": [
    "### 元素类\n",
    "ElementTree API的主要数据承载对象时元素。大部分XML树可以通过元素的方式访问。"
   ]
  },
  {
   "cell_type": "code",
   "execution_count": 2,
   "metadata": {},
   "outputs": [],
   "source": [
    "# 创建一个ElementTree对象，根节点为root，对象名为root\n",
    "root = etree.Element(\"root\")"
   ]
  },
  {
   "cell_type": "markdown",
   "metadata": {},
   "source": [
    "XML的标签名称可以通过`tag` 属性访问："
   ]
  },
  {
   "cell_type": "code",
   "execution_count": 3,
   "metadata": {},
   "outputs": [
    {
     "name": "stdout",
     "output_type": "stream",
     "text": [
      "root\n"
     ]
    }
   ],
   "source": [
    "print(root.tag)"
   ]
  },
  {
   "cell_type": "markdown",
   "metadata": {},
   "source": [
    "元素是XML树结构的主要组成部分，在树中加入子节点可以使用`append`"
   ]
  },
  {
   "cell_type": "code",
   "execution_count": 4,
   "metadata": {},
   "outputs": [],
   "source": [
    "root.append(etree.Element(\"child1\"))"
   ]
  },
  {
   "cell_type": "markdown",
   "metadata": {},
   "source": [
    "当然，我们也有更简单的方法添加子节点： "
   ]
  },
  {
   "cell_type": "code",
   "execution_count": 5,
   "metadata": {},
   "outputs": [],
   "source": [
    "child2 = etree.SubElement(root, \"child2\")\n",
    "child3 = etree.SubElement(root, \"child3\")"
   ]
  },
  {
   "cell_type": "markdown",
   "metadata": {},
   "source": [
    "这样就形成了一个真实的XML文档，你可以查看他的结构："
   ]
  },
  {
   "cell_type": "code",
   "execution_count": 6,
   "metadata": {},
   "outputs": [
    {
     "name": "stdout",
     "output_type": "stream",
     "text": [
      "b'<root>\\n  <child1/>\\n  <child2/>\\n  <child3/>\\n</root>\\n'\n"
     ]
    }
   ],
   "source": [
    "print(etree.tostring(root, pretty_print=True))"
   ]
  },
  {
   "cell_type": "markdown",
   "metadata": {},
   "source": [
    "### 元素以列表形式存在\n",
    "想要简单直接的访问这些子节点，元素可以利用类似于普通Pyhton列表的一些方法。"
   ]
  },
  {
   "cell_type": "code",
   "execution_count": 7,
   "metadata": {},
   "outputs": [
    {
     "name": "stdout",
     "output_type": "stream",
     "text": [
      "child1\n"
     ]
    }
   ],
   "source": [
    "child = root[0]\n",
    "print(child.tag)"
   ]
  },
  {
   "cell_type": "code",
   "execution_count": 8,
   "metadata": {},
   "outputs": [
    {
     "name": "stdout",
     "output_type": "stream",
     "text": [
      "3\n"
     ]
    }
   ],
   "source": [
    "print(len(root))"
   ]
  },
  {
   "cell_type": "code",
   "execution_count": 9,
   "metadata": {},
   "outputs": [
    {
     "data": {
      "text/plain": [
       "1"
      ]
     },
     "execution_count": 9,
     "metadata": {},
     "output_type": "execute_result"
    }
   ],
   "source": [
    "root.index(root[1])  # 需要导入objectify模块才可以使用！"
   ]
  },
  {
   "cell_type": "code",
   "execution_count": 10,
   "metadata": {},
   "outputs": [
    {
     "name": "stdout",
     "output_type": "stream",
     "text": [
      "child1\n",
      "child2\n",
      "child3\n"
     ]
    }
   ],
   "source": [
    "children = list(root)\n",
    "# 同样可以进行循环的操作\n",
    "for child in root:\n",
    "    print(child.tag)"
   ]
  },
  {
   "cell_type": "code",
   "execution_count": 11,
   "metadata": {},
   "outputs": [
    {
     "name": "stdout",
     "output_type": "stream",
     "text": [
      "child0\n",
      "child3\n"
     ]
    }
   ],
   "source": [
    "root.insert(0, etree.Element(\"child0\"))\n",
    "# 同样可以进行切片的操作\n",
    "start= root[:1]\n",
    "end = root[-1:]\n",
    "print(start[0].tag)\n",
    "print(end[0].tag)"
   ]
  },
  {
   "cell_type": "markdown",
   "metadata": {},
   "source": [
    "查看是否是节点元素类型"
   ]
  },
  {
   "cell_type": "code",
   "execution_count": 12,
   "metadata": {},
   "outputs": [
    {
     "name": "stdout",
     "output_type": "stream",
     "text": [
      "True\n"
     ]
    }
   ],
   "source": [
    "print(etree.iselement(root))"
   ]
  },
  {
   "cell_type": "markdown",
   "metadata": {},
   "source": [
    "查看根节点是否还有子节点 "
   ]
  },
  {
   "cell_type": "code",
   "execution_count": 13,
   "metadata": {},
   "outputs": [
    {
     "name": "stdout",
     "output_type": "stream",
     "text": [
      "The root element has children\n"
     ]
    }
   ],
   "source": [
    "if len(root):\n",
    "    print(\"The root element has children\")"
   ]
  },
  {
   "cell_type": "markdown",
   "metadata": {},
   "source": [
    "### 元素节点的覆盖移动\n",
    "这一点和列表不同，列表的赋值是拷贝，而ElementTree树的操作是直接覆盖移动"
   ]
  },
  {
   "cell_type": "code",
   "execution_count": 14,
   "metadata": {},
   "outputs": [
    {
     "name": "stdout",
     "output_type": "stream",
     "text": [
      "child0\n",
      "child1\n",
      "child2\n",
      "child3\n",
      "******************************\n",
      "child3\n",
      "child1\n",
      "child2\n"
     ]
    }
   ],
   "source": [
    "for child in root:\n",
    "    print(child.tag)\n",
    "root[0] = root[-1]\n",
    "print(\"*\"*30)\n",
    "for child in root:\n",
    "    print(child.tag)"
   ]
  },
  {
   "cell_type": "markdown",
   "metadata": {},
   "source": [
    "如果你想将节点元素拷贝到`lxml.etree`中的新位置，就要使用Python的copy模块中的深拷贝`deep copy`来完成。"
   ]
  },
  {
   "cell_type": "code",
   "execution_count": 15,
   "metadata": {},
   "outputs": [
    {
     "name": "stdout",
     "output_type": "stream",
     "text": [
      "child1\n",
      "['child3', 'child1', 'child2']\n"
     ]
    }
   ],
   "source": [
    "from copy import deepcopy\n",
    "# 创建一个名为elemet的对象，根节点名为neu\n",
    "element = etree.Element(\"neu\")\n",
    "# 通过深拷贝（新内存地址）向对象添加子节点\n",
    "element.append(deepcopy(root[1]))\n",
    "print(element[0].tag)\n",
    "# 显然，并没有移走原来的root[1]节点\n",
    "print([c.tag for c in root])"
   ]
  },
  {
   "cell_type": "markdown",
   "metadata": {},
   "source": [
    "通过兄弟节点也可以互相访问"
   ]
  },
  {
   "cell_type": "code",
   "execution_count": 16,
   "metadata": {},
   "outputs": [
    {
     "data": {
      "text/plain": [
       "True"
      ]
     },
     "execution_count": 16,
     "metadata": {},
     "output_type": "execute_result"
    }
   ],
   "source": [
    "root[0] is root[1].getprevious()\n",
    "root[1] is root[0].getnext()"
   ]
  },
  {
   "cell_type": "markdown",
   "metadata": {},
   "source": [
    "### 节点元素以字典的方式携带属性\n",
    "XML元素支持属性，通过字典的方式携带元素属性"
   ]
  },
  {
   "cell_type": "code",
   "execution_count": 17,
   "metadata": {},
   "outputs": [
    {
     "data": {
      "text/plain": [
       "b'<root interesting=\"totally\"/>'"
      ]
     },
     "execution_count": 17,
     "metadata": {},
     "output_type": "execute_result"
    }
   ],
   "source": [
    "root = etree.Element(\"root\", interesting=\"totally\")\n",
    "etree.tostring(root)"
   ]
  },
  {
   "cell_type": "markdown",
   "metadata": {},
   "source": [
    "元素的属性是无序的键值对，所以一个方便的方式来处理他们就是类似Python的字典处理方式 "
   ]
  },
  {
   "cell_type": "code",
   "execution_count": 18,
   "metadata": {},
   "outputs": [
    {
     "name": "stdout",
     "output_type": "stream",
     "text": [
      "totally\n",
      "None\n",
      "Hengheng\n",
      "hello = Hengheng\n",
      "interesting = totally\n"
     ]
    }
   ],
   "source": [
    "# 使用 根节点.get(\"属性名\") 来获取元素的属性信息\n",
    "print(root.get(\"interesting\"))\n",
    "print(root.get(\"hello\"))\n",
    "# 可以使用set来设置属性\n",
    "root.set(\"hello\", \"Hengheng\")\n",
    "print(root.get(\"hello\"))\n",
    "for name, value in sorted(root.items()):\n",
    "    print('%s = %s' % (name, value))"
   ]
  },
  {
   "cell_type": "markdown",
   "metadata": {},
   "source": [
    "如果你想要的真的类字典操作，可以进行如下处理："
   ]
  },
  {
   "cell_type": "code",
   "execution_count": 19,
   "metadata": {},
   "outputs": [
    {
     "name": "stdout",
     "output_type": "stream",
     "text": [
      "totally\n",
      "None\n",
      "tag\n"
     ]
    }
   ],
   "source": [
    "attributes = root.attrib\n",
    "print(attributes[\"interesting\"])\n",
    "print(attributes.get(\"no-such-attribute\"))\n",
    "attributes[\"hello\"] = \"tag\"\n",
    "print(attributes.get(\"hello\"))"
   ]
  },
  {
   "cell_type": "markdown",
   "metadata": {},
   "source": [
    "# 从字符串或者文件解析\n",
    "\n",
    "`lxml.tree`支持以各种方式解析XML文件，可以解析字符串、文件、URLs或者其他类文件对象。主要的解析函数是`fromstring()`和`parse()`。\n",
    "\n",
    "### `fromstring()函数`\n",
    "\n",
    "`fromstring()`可以轻松的解析一个字符串："
   ]
  },
  {
   "cell_type": "code",
   "execution_count": 30,
   "metadata": {},
   "outputs": [
    {
     "name": "stdout",
     "output_type": "stream",
     "text": [
      "root\n"
     ]
    },
    {
     "data": {
      "text/plain": [
       "b'<root>data</root>'"
      ]
     },
     "execution_count": 30,
     "metadata": {},
     "output_type": "execute_result"
    }
   ],
   "source": [
    "# 字符串\n",
    "some_xml_data = \"<root>data</root>\"\n",
    "# 使用fromstring来解析\n",
    "root = etree.fromstring(some_xml_data)\n",
    "print(root.tag)\n",
    "etree.tostring(root)"
   ]
  },
  {
   "cell_type": "markdown",
   "metadata": {},
   "source": [
    "### `XML()`函数\n",
    "\n",
    "`xml()`函数和`fromstring()`函数功能类似，"
   ]
  },
  {
   "cell_type": "code",
   "execution_count": null,
   "metadata": {},
   "outputs": [],
   "source": []
  },
  {
   "cell_type": "code",
   "execution_count": null,
   "metadata": {},
   "outputs": [],
   "source": []
  },
  {
   "cell_type": "code",
   "execution_count": null,
   "metadata": {},
   "outputs": [],
   "source": []
  },
  {
   "cell_type": "code",
   "execution_count": null,
   "metadata": {},
   "outputs": [],
   "source": []
  },
  {
   "cell_type": "markdown",
   "metadata": {},
   "source": [
    "# 通过Xpath语法访问文本\n"
   ]
  },
  {
   "cell_type": "markdown",
   "metadata": {},
   "source": [
    "树迭代器也可以使用： "
   ]
  },
  {
   "cell_type": "code",
   "execution_count": 20,
   "metadata": {},
   "outputs": [
    {
     "name": "stdout",
     "output_type": "stream",
     "text": [
      "root - None\n",
      "child - Child 1\n",
      "child - Child 2\n",
      "another - Child 3\n"
     ]
    }
   ],
   "source": [
    "root = etree.Element(\"root\")\n",
    "etree.SubElement(root, \"child\").text = \"Child 1\"\n",
    "etree.SubElement(root, \"child\").text = \"Child 2\"\n",
    "etree.SubElement(root, \"another\").text = \"Child 3\"\n",
    "for element in root.iter():\n",
    "    print(\"%s - %s\" % (element.tag, element.text))"
   ]
  },
  {
   "cell_type": "markdown",
   "metadata": {},
   "source": [
    "*暂略*"
   ]
  },
  {
   "cell_type": "markdown",
   "metadata": {},
   "source": [
    "## lxml.objectify模块的使用\n",
    "在使用`objectify`的时候，既会用到`lxml.etree`模块也会用到`lxml.object`模块。"
   ]
  },
  {
   "cell_type": "code",
   "execution_count": 21,
   "metadata": {},
   "outputs": [],
   "source": [
    "from lxml import etree\n",
    "from lxml import objectify"
   ]
  },
  {
   "cell_type": "markdown",
   "metadata": {},
   "source": [
    "### 通过对象属性访问元素\n",
    "`objectify`API和`ElementTree`API不同，一旦使用这个API就不应该与别的元素处理混合使用。\n",
    "这个API的主要思想是将XML元素的访问方法隐藏于普通元素对象的访问方法中。通过元素属性访问，将返回带有相应标签名称的子元素序列。\n"
   ]
  },
  {
   "cell_type": "code",
   "execution_count": 22,
   "metadata": {},
   "outputs": [
    {
     "name": "stdout",
     "output_type": "stream",
     "text": [
      "b\n"
     ]
    },
    {
     "data": {
      "text/plain": [
       "0"
      ]
     },
     "execution_count": 22,
     "metadata": {},
     "output_type": "execute_result"
    }
   ],
   "source": [
    "root = objectify.Element(\"root\")\n",
    "b = objectify.SubElement(root, \"b\")\n",
    "# 根节点下子节点b的第一个元素的标签值\n",
    "print(root.b[0].tag)\n",
    "# 节点b的第一个元素的下标\n",
    "# root.index(root.b[0])\n",
    "# 更简洁的写法，可以省略下标0来访问第一个孩子节点\n",
    "root.index(root.b)"
   ]
  },
  {
   "cell_type": "markdown",
   "metadata": {},
   "source": [
    "*暂略*"
   ]
  },
  {
   "cell_type": "markdown",
   "metadata": {},
   "source": [
    "#  用lxml解析XML和HTML\n",
    "\n",
    "对于XMl和HTMl的解析，lxml提供了一个简单有效的API。\n",
    "简单的步骤如下："
   ]
  },
  {
   "cell_type": "code",
   "execution_count": 23,
   "metadata": {},
   "outputs": [],
   "source": [
    "from lxml import etree"
   ]
  },
  {
   "cell_type": "code",
   "execution_count": 24,
   "metadata": {},
   "outputs": [],
   "source": [
    "# 下面的例子是使用IO模块进行文件的导入的\n",
    "from io import StringIO, BytesIO"
   ]
  },
  {
   "cell_type": "markdown",
   "metadata": {},
   "source": [
    "### 解析器"
   ]
  },
  {
   "cell_type": "code",
   "execution_count": 25,
   "metadata": {},
   "outputs": [
    {
     "data": {
      "text/plain": [
       "b'<a xmlns=\"test\"><b xmlns=\"test\"/></a>'"
      ]
     },
     "execution_count": 25,
     "metadata": {},
     "output_type": "execute_result"
    }
   ],
   "source": [
    "xml = '<a xmlns=\"test\"><b xmlns=\"test\"/></a>'\n",
    "root = etree.fromstring(xml)\n",
    "etree.tostring(root)"
   ]
  },
  {
   "cell_type": "markdown",
   "metadata": {},
   "source": [
    "从一个文件读取对象，你可以使用`prase()`函数，会返回一个元素树对象"
   ]
  },
  {
   "cell_type": "code",
   "execution_count": 26,
   "metadata": {},
   "outputs": [
    {
     "data": {
      "text/plain": [
       "b'<a xmlns=\"test\"><b xmlns=\"test\"/></a>'"
      ]
     },
     "execution_count": 26,
     "metadata": {},
     "output_type": "execute_result"
    }
   ],
   "source": [
    "tree = etree.parse(StringIO(xml))\n",
    "etree.tostring(tree.getroot())"
   ]
  },
  {
   "cell_type": "markdown",
   "metadata": {},
   "source": [
    "**我们现在从本地读取文件：**"
   ]
  },
  {
   "cell_type": "code",
   "execution_count": 27,
   "metadata": {},
   "outputs": [],
   "source": [
    "tree = etree.parse(\"C:\\\\Users\\\\Administrator\\\\Desktop\\\\CFturbo机器学习课题\\\\临时泵模型\\\\混流1.cft-batch\")"
   ]
  },
  {
   "cell_type": "markdown",
   "metadata": {},
   "source": [
    "### 解析的选项\n",
    "\n",
    "解析时我们接受一个关键字参数作为设置选项，通过这个我们可以轻松的清理命名空间"
   ]
  },
  {
   "cell_type": "code",
   "execution_count": 28,
   "metadata": {},
   "outputs": [
    {
     "data": {
      "text/plain": [
       "b'<a xmlns=\"test\"><b/></a>'"
      ]
     },
     "execution_count": 28,
     "metadata": {},
     "output_type": "execute_result"
    }
   ],
   "source": [
    "parser = etree.XMLParser(ns_clean=True)\n",
    "tree = etree.parse(StringIO(xml), parser)\n",
    "etree.tostring(tree.getroot())"
   ]
  },
  {
   "cell_type": "code",
   "execution_count": 29,
   "metadata": {},
   "outputs": [],
   "source": [
    "tree = etree.parse(\"C:\\\\Users\\\\Administrator\\\\Desktop\\\\CFturbo机器学习课题\\\\临时泵模型\\\\混流1.cft-batch\")\n",
    "root = tree.getroot()"
   ]
  },
  {
   "cell_type": "markdown",
   "metadata": {},
   "source": [
    " **待更新**"
   ]
  },
  {
   "cell_type": "code",
   "execution_count": null,
   "metadata": {},
   "outputs": [],
   "source": []
  },
  {
   "cell_type": "code",
   "execution_count": null,
   "metadata": {},
   "outputs": [],
   "source": []
  }
 ],
 "metadata": {
  "kernelspec": {
   "display_name": "Python 3",
   "language": "python",
   "name": "python3"
  },
  "language_info": {
   "codemirror_mode": {
    "name": "ipython",
    "version": 3
   },
   "file_extension": ".py",
   "mimetype": "text/x-python",
   "name": "python",
   "nbconvert_exporter": "python",
   "pygments_lexer": "ipython3",
   "version": "3.7.3"
  }
 },
 "nbformat": 4,
 "nbformat_minor": 2
}
