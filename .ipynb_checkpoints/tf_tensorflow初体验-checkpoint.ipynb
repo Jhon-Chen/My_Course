{
 "cells": [
  {
   "cell_type": "markdown",
   "metadata": {},
   "source": [
    "### 简单体验"
   ]
  },
  {
   "cell_type": "code",
   "execution_count": 1,
   "metadata": {},
   "outputs": [],
   "source": [
    "# 导入模块\n",
    "import tensorflow as tf"
   ]
  },
  {
   "cell_type": "code",
   "execution_count": 2,
   "metadata": {},
   "outputs": [],
   "source": [
    "# 创建一张图\n",
    "g = tf.Graph()\n",
    "# 使用这张图，注意，会话默认使用的不是这张图\n",
    "with g.as_default():\n",
    "    con_g = tf.constant(4.0)\n",
    "#     print(con_g.graph)"
   ]
  },
  {
   "cell_type": "code",
   "execution_count": 14,
   "metadata": {},
   "outputs": [],
   "source": [
    "# 实现加法\n",
    "con1 = tf.constant(11.0, name = 'con1')\n",
    "con2 = tf.constant(12.0, name = 'con2')\n",
    "\n",
    "sum_ = tf.add(con1, con2, name = 'sum')\n",
    "\n",
    "# 当这个数据在图中没有明确定义好数据的内容\n",
    "plt = tf.placeholder(tf.float32, shape=[None, 2])  # 指定数据类型，数据形状,不固定用None\n",
    "# 在run时使用feed来传入数据\n",
    "\n",
    "#print(con1, con2, sum_)\n",
    "# print(tf.get_default_graph())\n",
    "# print(g) # 一个程序里可以定义多张图，他们的地址不同\n",
    "# print(sum_)  TensorFlow的运行并不是指定的命令"
   ]
  },
  {
   "cell_type": "code",
   "execution_count": 17,
   "metadata": {},
   "outputs": [
    {
     "name": "stdout",
     "output_type": "stream",
     "text": [
      "[[1. 2.]\n",
      " [3. 4.]]\n"
     ]
    }
   ],
   "source": [
    "# 运行需要使用会话运行\n",
    "with tf.Session(config = tf.ConfigProto(allow_soft_placement = True, log_device_placement = True)) as sess:\n",
    "    print(sess.run(plt, feed_dict={plt: [[1, 2], [3, 4]]})) # 这个猎豹是fetches\n",
    "#     print(con1.graph)\n",
    "\n",
    "# 在会话中序列化图到events文件(\"存储路径\"，graph = 指定的图)\n",
    "#     tf.summary.FileWriter(\"C:\\\\Users\\\\Administrator\\\\Git\\\\CFturb\\\\Deep_Learning\\\\\", graph = sess.graph)"
   ]
  },
  {
   "cell_type": "code",
   "execution_count": null,
   "metadata": {},
   "outputs": [],
   "source": []
  },
  {
   "cell_type": "code",
   "execution_count": null,
   "metadata": {},
   "outputs": [],
   "source": []
  },
  {
   "cell_type": "markdown",
   "metadata": {},
   "source": [
    "# TensorFlow结构分析\n",
    "\n",
    "* **一个构建图的阶段**：图（程序）的定义\n",
    "    * 张量：TensorFlow中的基本数据对象\n",
    "    * 节点（OP）：大部分时候是指运行操作（有时也与其他操作）\n",
    "* **一个执行图的阶段**：通过会话去运行程序"
   ]
  },
  {
   "cell_type": "markdown",
   "metadata": {},
   "source": [
    "### 图与Tensorboard\n",
    "\n",
    "* 图包含了一组**tf.Operation**代表计算单元的对象和**tf.Tensor**代表计算单元之间流动的数据。\n",
    "\n",
    "* TensorBoard可视化视为更方便的理解、优化与调试。\n",
    "\n",
    "1. 将程序序列化道一个events文件\n",
    "    * 生成一个文件名称格式为events.out.tfevents.{timestamp}.{hostname}\n",
    "\n",
    "2. 启动TensorBoard\n",
    "    * `tensorboard --logdir=\"/tmp/tensorflow/summary/test/\"` \n",
    "    * 在浏览器中打开TensorBoard的图页面127.0.0.1:6060，会看到与一下图形类似的图，在GRAPHS模块我们可以看到一下图结构。"
   ]
  },
  {
   "cell_type": "markdown",
   "metadata": {},
   "source": [
    "### OP节点\n",
    "\n",
    "![image41b67.png](https://miao.su/images/2019/10/12/image41b67.png)\n",
    "\n",
    "* OP有一个名字：在整个TensorFlow程序当中全局唯一\n",
    "\n",
    "* 通过name参数，修改指令名称，便于查看图当中的OP内容"
   ]
  },
  {
   "cell_type": "markdown",
   "metadata": {},
   "source": [
    "# 会话\n",
    "\n",
    "会话是一个运行TensorFlow operation的类，会话包含以下两种打开方式：\n",
    "* `tf.Session`：用于完整的程序当中\n",
    "\n",
    "* `tf.InteractiveSession`：用于交互式上下文中的TensorFlow，例如shell\n",
    "> 1. TensorFlow使用`tf.Session`类来表示客户端程序（通常为Python程序，但与提供了使用其他语言的类似接口）与C++运行时之间的连接\n",
    "> 2. `tf.Session`对象使用分布式TensorFlow运行时提供对本地计算机中的设备和远程设备的访问权限\n",
    "\n"
   ]
  },
  {
   "cell_type": "markdown",
   "metadata": {},
   "source": [
    "### 初始化\n",
    "\n",
    "**`init(target=', graph=None, config=None)`**\n",
    "\n",
    "1. 会话一般会使用很多的资源，在程序运行过后我们往往需要去释放资源，所以一般有两种方法：\n",
    "\n",
    "    `sess.run() ... sess.close()`  # 这样写很麻烦\n",
    "\n",
    "    `with tf.Session as sess: ......`  # 可以使用上下文管理器，这样不会遗忘代码也更加简洁\n",
    "\n",
    "2. 会话运行的是默认这张图，所以要运行的OP必须是这张图当中的\n",
    "\n",
    "初始化的几个参数：\n",
    "\n",
    "* target：如果此参数留空（默认），会话将仅使用本地计算机中的设备。可以指定 `grpc://网址`，以便指定TensorFlow服务器的地址，这使得会话可以访问该服务器控制的计算机上的所有设备。\n",
    "\n",
    "* grapg：默认情况下，新的`tf.Session`将绑定到当前的默认图，并且只能在当前的默认图中operation。\n",
    "\n",
    "* config：此参数允许您指定一个`tf.ConfigProto`以便控制会话的行为。例如，ConfigProto协议用于打印设备使用信息。\n",
    "\n"
   ]
  },
  {
   "cell_type": "markdown",
   "metadata": {},
   "source": [
    "### 会话的`run()`\n",
    "\n",
    "`run(fetches, feed_dict=None, options=None, run_metadata=None)`\n",
    "\n",
    "* 通过使用`sess.run()`来运行operation\n",
    "\n",
    "* `sess.run([xxx, xxx, xxx])`利用传入一个列表，可以一次运算多个结果 \n",
    "\n",
    "* 会话`sess.run()`中的参数不能是非OP，tensor对象\n",
    "\n",
    "run的参数：\n",
    "* fetches：运行多个使用列表\n",
    "\n",
    "* feed_dict：运行的时候提供数据，一般不确定数据形状时，可以结合placeholder使用。用在训练的时候实时提供要训练的批次数据。"
   ]
  },
  {
   "cell_type": "markdown",
   "metadata": {},
   "source": [
    "**常见的错误：**\n",
    "1. RuntimeError：如果这个Session是无效状态（例如已关闭）\n",
    "\n",
    "2. TypeError：如果fetches或者feed_dict键的类型不合适\n",
    "\n",
    "3. ValueError：如果fetches或feed_dict键无效或引用Tensor键不存在"
   ]
  },
  {
   "cell_type": "code",
   "execution_count": null,
   "metadata": {},
   "outputs": [],
   "source": []
  },
  {
   "cell_type": "code",
   "execution_count": null,
   "metadata": {},
   "outputs": [],
   "source": []
  },
  {
   "cell_type": "code",
   "execution_count": null,
   "metadata": {},
   "outputs": [],
   "source": []
  },
  {
   "cell_type": "code",
   "execution_count": null,
   "metadata": {},
   "outputs": [],
   "source": []
  }
 ],
 "metadata": {
  "kernelspec": {
   "display_name": "Python 3",
   "language": "python",
   "name": "python3"
  },
  "language_info": {
   "codemirror_mode": {
    "name": "ipython",
    "version": 3
   },
   "file_extension": ".py",
   "mimetype": "text/x-python",
   "name": "python",
   "nbconvert_exporter": "python",
   "pygments_lexer": "ipython3",
   "version": "3.6.9"
  }
 },
 "nbformat": 4,
 "nbformat_minor": 2
}
